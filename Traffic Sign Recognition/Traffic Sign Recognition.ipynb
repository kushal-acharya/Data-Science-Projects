{
 "cells": [
  {
   "cell_type": "markdown",
   "metadata": {},
   "source": [
    "# Traffic Sign Recognition Project"
   ]
  },
  {
   "cell_type": "markdown",
   "metadata": {},
   "source": [
    "## Problem Statement"
   ]
  },
  {
   "cell_type": "markdown",
   "metadata": {},
   "source": [
    "To detect traffic road signs from images. We will be detecting among 43 different classes of images."
   ]
  },
  {
   "cell_type": "markdown",
   "metadata": {},
   "source": [
    "## Dataset"
   ]
  },
  {
   "cell_type": "markdown",
   "metadata": {},
   "source": [
    "Dataset can be downloaded from the following link :\n",
    "    \n",
    "https://www.kaggle.com/meowmeowmeowmeowmeow/gtsrb-german-traffic-sign"
   ]
  },
  {
   "cell_type": "markdown",
   "metadata": {},
   "source": [
    "## Setting up Environment\n",
    "\n",
    "Importing required libraries"
   ]
  },
  {
   "cell_type": "code",
   "execution_count": 1,
   "metadata": {},
   "outputs": [
    {
     "name": "stderr",
     "output_type": "stream",
     "text": [
      "Using TensorFlow backend.\n"
     ]
    }
   ],
   "source": [
    "import numpy as np\n",
    "import pandas as pd\n",
    "import tensorflow as tf\n",
    "from tensorflow import keras\n",
    "import matplotlib.pyplot as plt\n",
    "%matplotlib inline\n",
    "from PIL import Image # python image library, for importing images into the notebook\n",
    "import os # to change working path\n",
    "from sklearn.model_selection import train_test_split\n",
    "from keras.utils import to_categorical # to convert classes to categories (e.g. one-hot encoding)\n",
    "from keras.models import Sequential, load_model\n",
    "from keras.layers import Conv2D, MaxPool2D, Dense, Flatten, Dropout"
   ]
  },
  {
   "cell_type": "markdown",
   "metadata": {},
   "source": [
    "### Creating lists to store data and labels separately in them"
   ]
  },
  {
   "cell_type": "code",
   "execution_count": 2,
   "metadata": {},
   "outputs": [],
   "source": [
    "# creating rmpty lists to stoore data and labels\n",
    "data = []\n",
    "labels = []\n",
    "classes = 43 # we have 43 classes\n",
    "current_path = os.getcwd() # getting the current path (not required)"
   ]
  },
  {
   "cell_type": "code",
   "execution_count": 3,
   "metadata": {},
   "outputs": [
    {
     "data": {
      "text/plain": [
       "'E:\\\\Data Science Projects\\\\Traffic Sign Detection'"
      ]
     },
     "execution_count": 3,
     "metadata": {},
     "output_type": "execute_result"
    }
   ],
   "source": [
    "current_path"
   ]
  },
  {
   "cell_type": "markdown",
   "metadata": {},
   "source": [
    "## Preprocessing the images "
   ]
  },
  {
   "cell_type": "code",
   "execution_count": 4,
   "metadata": {},
   "outputs": [
    {
     "name": "stdout",
     "output_type": "stream",
     "text": [
      "path: E:\\Data Science Projects\\Traffic Sign Detection\\train\\0\n",
      "path: E:\\Data Science Projects\\Traffic Sign Detection\\train\\1\n",
      "path: E:\\Data Science Projects\\Traffic Sign Detection\\train\\2\n",
      "path: E:\\Data Science Projects\\Traffic Sign Detection\\train\\3\n",
      "path: E:\\Data Science Projects\\Traffic Sign Detection\\train\\4\n",
      "path: E:\\Data Science Projects\\Traffic Sign Detection\\train\\5\n",
      "path: E:\\Data Science Projects\\Traffic Sign Detection\\train\\6\n",
      "path: E:\\Data Science Projects\\Traffic Sign Detection\\train\\7\n",
      "path: E:\\Data Science Projects\\Traffic Sign Detection\\train\\8\n",
      "path: E:\\Data Science Projects\\Traffic Sign Detection\\train\\9\n",
      "path: E:\\Data Science Projects\\Traffic Sign Detection\\train\\10\n",
      "path: E:\\Data Science Projects\\Traffic Sign Detection\\train\\11\n",
      "path: E:\\Data Science Projects\\Traffic Sign Detection\\train\\12\n",
      "path: E:\\Data Science Projects\\Traffic Sign Detection\\train\\13\n",
      "path: E:\\Data Science Projects\\Traffic Sign Detection\\train\\14\n",
      "path: E:\\Data Science Projects\\Traffic Sign Detection\\train\\15\n",
      "path: E:\\Data Science Projects\\Traffic Sign Detection\\train\\16\n",
      "path: E:\\Data Science Projects\\Traffic Sign Detection\\train\\17\n",
      "path: E:\\Data Science Projects\\Traffic Sign Detection\\train\\18\n",
      "path: E:\\Data Science Projects\\Traffic Sign Detection\\train\\19\n",
      "path: E:\\Data Science Projects\\Traffic Sign Detection\\train\\20\n",
      "path: E:\\Data Science Projects\\Traffic Sign Detection\\train\\21\n",
      "path: E:\\Data Science Projects\\Traffic Sign Detection\\train\\22\n",
      "path: E:\\Data Science Projects\\Traffic Sign Detection\\train\\23\n",
      "path: E:\\Data Science Projects\\Traffic Sign Detection\\train\\24\n",
      "path: E:\\Data Science Projects\\Traffic Sign Detection\\train\\25\n",
      "path: E:\\Data Science Projects\\Traffic Sign Detection\\train\\26\n",
      "path: E:\\Data Science Projects\\Traffic Sign Detection\\train\\27\n",
      "path: E:\\Data Science Projects\\Traffic Sign Detection\\train\\28\n",
      "path: E:\\Data Science Projects\\Traffic Sign Detection\\train\\29\n",
      "path: E:\\Data Science Projects\\Traffic Sign Detection\\train\\30\n",
      "path: E:\\Data Science Projects\\Traffic Sign Detection\\train\\31\n",
      "path: E:\\Data Science Projects\\Traffic Sign Detection\\train\\32\n",
      "path: E:\\Data Science Projects\\Traffic Sign Detection\\train\\33\n",
      "path: E:\\Data Science Projects\\Traffic Sign Detection\\train\\34\n",
      "path: E:\\Data Science Projects\\Traffic Sign Detection\\train\\35\n",
      "path: E:\\Data Science Projects\\Traffic Sign Detection\\train\\36\n",
      "path: E:\\Data Science Projects\\Traffic Sign Detection\\train\\37\n",
      "path: E:\\Data Science Projects\\Traffic Sign Detection\\train\\38\n",
      "path: E:\\Data Science Projects\\Traffic Sign Detection\\train\\39\n",
      "path: E:\\Data Science Projects\\Traffic Sign Detection\\train\\40\n",
      "path: E:\\Data Science Projects\\Traffic Sign Detection\\train\\41\n",
      "path: E:\\Data Science Projects\\Traffic Sign Detection\\train\\42\n"
     ]
    }
   ],
   "source": [
    "# for every class\n",
    "for i in range(classes):\n",
    "    path = os.path.join(current_path,'train', str(i))\n",
    "    print(\"path:\", path)\n",
    "    images = os.listdir(path)\n",
    "    for a in images:\n",
    "        try :\n",
    "            image = Image.open(path+'\\\\'+a)\n",
    "            #resizing image to a standard size i.e. 30x30 pixel\n",
    "            image = image.resize((30,30))\n",
    "            image = np.array(image) # converting image to a numpy array\n",
    "            data.append(image) #adding to the image collection\n",
    "            labels.append(i) # adding to labels (classes)\n",
    "        #we can access the attributes of the exception object with the below method\n",
    "        except Exception as e:\n",
    "            print(e)\n",
    "        "
   ]
  },
  {
   "cell_type": "markdown",
   "metadata": {},
   "source": [
    "### Converting the list of data and labels into numpy array"
   ]
  },
  {
   "cell_type": "code",
   "execution_count": 6,
   "metadata": {},
   "outputs": [],
   "source": [
    "data = np.array(data)\n",
    "labels = np.array(labels)"
   ]
  },
  {
   "cell_type": "markdown",
   "metadata": {},
   "source": [
    "### Saving Labels and Data for Future Reference"
   ]
  },
  {
   "cell_type": "code",
   "execution_count": 7,
   "metadata": {},
   "outputs": [],
   "source": [
    "#making new directory\n",
    "#os.mkdir('training')\n",
    "np.save('./training/data',data)\n",
    "np.save('./training/target',labels)"
   ]
  },
  {
   "cell_type": "markdown",
   "metadata": {},
   "source": [
    "### Loading data and labels"
   ]
  },
  {
   "cell_type": "code",
   "execution_count": 8,
   "metadata": {},
   "outputs": [],
   "source": [
    "data = np.load('./training/data.npy')\n",
    "labels = np.load('./training/target.npy')"
   ]
  },
  {
   "cell_type": "markdown",
   "metadata": {},
   "source": [
    "Looking at shapes"
   ]
  },
  {
   "cell_type": "code",
   "execution_count": 9,
   "metadata": {},
   "outputs": [
    {
     "data": {
      "text/plain": [
       "(39209, 30, 30, 3)"
      ]
     },
     "execution_count": 9,
     "metadata": {},
     "output_type": "execute_result"
    }
   ],
   "source": [
    "data.shape"
   ]
  },
  {
   "cell_type": "code",
   "execution_count": 10,
   "metadata": {},
   "outputs": [
    {
     "data": {
      "text/plain": [
       "(39209,)"
      ]
     },
     "execution_count": 10,
     "metadata": {},
     "output_type": "execute_result"
    }
   ],
   "source": [
    "labels.shape"
   ]
  },
  {
   "cell_type": "markdown",
   "metadata": {},
   "source": [
    "**Splitting data into train and test set**"
   ]
  },
  {
   "cell_type": "code",
   "execution_count": 11,
   "metadata": {},
   "outputs": [],
   "source": [
    "X_train, X_test, y_train, y_test = train_test_split(data, labels, test_size = 0.2, random_state = 0)"
   ]
  },
  {
   "cell_type": "markdown",
   "metadata": {},
   "source": [
    "Looking at shapes after splitting the data"
   ]
  },
  {
   "cell_type": "code",
   "execution_count": 12,
   "metadata": {},
   "outputs": [
    {
     "name": "stdout",
     "output_type": "stream",
     "text": [
      "(31367, 30, 30, 3) (7842, 30, 30, 3) (31367,) (7842,)\n"
     ]
    }
   ],
   "source": [
    "print(X_train.shape, X_test.shape, y_train.shape, y_test.shape)"
   ]
  },
  {
   "cell_type": "markdown",
   "metadata": {},
   "source": [
    "### Converting all the classes to numerical data using one-hot encoding"
   ]
  },
  {
   "cell_type": "code",
   "execution_count": 13,
   "metadata": {},
   "outputs": [],
   "source": [
    "y_train = to_categorical(y_train, 43)\n",
    "y_test = to_categorical(y_test, 43)"
   ]
  },
  {
   "cell_type": "markdown",
   "metadata": {},
   "source": [
    "## Building the NN"
   ]
  },
  {
   "cell_type": "code",
   "execution_count": 14,
   "metadata": {},
   "outputs": [],
   "source": [
    "model = Sequential()\n",
    "model.add(Conv2D(filters = 32, kernel_size = (5,5), activation = 'relu', input_shape = X_train.shape[1:]))\n",
    "model.add(Conv2D(filters = 32, kernel_size = (5,5), activation = 'relu'))\n",
    "model.add(MaxPool2D(pool_size=(2,2)))\n",
    "model.add(Dropout(rate = 0.25))\n",
    "model.add(Conv2D(filters = 64, kernel_size = (3,3), activation = 'relu'))\n",
    "model.add(Conv2D(filters = 64, kernel_size = (3,3), activation = 'relu'))\n",
    "model.add(MaxPool2D(pool_size = (2,2)))\n",
    "model.add(Dropout(rate = 0.25))\n",
    "model.add(Flatten())\n",
    "model.add(Dense(256, activation = 'relu'))\n",
    "model.add(Dropout(rate = 0.5))\n",
    "# we will want the final layers to have 43 nodes corresponding to the 43 classes that we have\n",
    "model.add(Dense(43, activation = 'softmax'))"
   ]
  },
  {
   "cell_type": "markdown",
   "metadata": {},
   "source": [
    "**Compiling the model**\n",
    "\n",
    "Defining loss function, optimizer and performance metrics"
   ]
  },
  {
   "cell_type": "code",
   "execution_count": 15,
   "metadata": {},
   "outputs": [],
   "source": [
    "model.compile(loss = 'categorical_crossentropy', optimizer = 'adam', metrics = ['accuracy'])"
   ]
  },
  {
   "cell_type": "markdown",
   "metadata": {},
   "source": [
    "**Fititng the model**"
   ]
  },
  {
   "cell_type": "markdown",
   "metadata": {},
   "source": [
    "By experimentation, we have found that the best validation accuracy is obtained at epochs = 19, after which the loss starts increasing and accuracy starts decreasing."
   ]
  },
  {
   "cell_type": "code",
   "execution_count": 16,
   "metadata": {},
   "outputs": [
    {
     "name": "stdout",
     "output_type": "stream",
     "text": [
      "Train on 31367 samples, validate on 7842 samples\n",
      "Epoch 1/19\n",
      "31367/31367 [==============================] - 12s 367us/step - loss: 1.6957 - accuracy: 0.5871 - val_loss: 0.2529 - val_accuracy: 0.9376\n",
      "Epoch 2/19\n",
      "31367/31367 [==============================] - 7s 224us/step - loss: 0.4073 - accuracy: 0.8905 - val_loss: 0.1242 - val_accuracy: 0.9704\n",
      "Epoch 3/19\n",
      "31367/31367 [==============================] - 7s 222us/step - loss: 0.2732 - accuracy: 0.9286 - val_loss: 0.1221 - val_accuracy: 0.9670\n",
      "Epoch 4/19\n",
      "31367/31367 [==============================] - 8s 256us/step - loss: 0.2346 - accuracy: 0.9401 - val_loss: 0.0691 - val_accuracy: 0.9846\n",
      "Epoch 5/19\n",
      "31367/31367 [==============================] - 8s 243us/step - loss: 0.2163 - accuracy: 0.9447 - val_loss: 0.0871 - val_accuracy: 0.9778\n",
      "Epoch 6/19\n",
      "31367/31367 [==============================] - 7s 215us/step - loss: 0.2197 - accuracy: 0.9458 - val_loss: 0.0700 - val_accuracy: 0.9821\n",
      "Epoch 7/19\n",
      "31367/31367 [==============================] - 7s 216us/step - loss: 0.1955 - accuracy: 0.9514 - val_loss: 0.0728 - val_accuracy: 0.9827\n",
      "Epoch 8/19\n",
      "31367/31367 [==============================] - 8s 253us/step - loss: 0.2085 - accuracy: 0.9482 - val_loss: 0.0503 - val_accuracy: 0.9848\n",
      "Epoch 9/19\n",
      "31367/31367 [==============================] - 7s 217us/step - loss: 0.1995 - accuracy: 0.9519 - val_loss: 0.0572 - val_accuracy: 0.9856\n",
      "Epoch 10/19\n",
      "31367/31367 [==============================] - 7s 234us/step - loss: 0.1842 - accuracy: 0.9570 - val_loss: 0.0470 - val_accuracy: 0.9884\n",
      "Epoch 11/19\n",
      "31367/31367 [==============================] - 8s 268us/step - loss: 0.2165 - accuracy: 0.9515 - val_loss: 0.0514 - val_accuracy: 0.9876\n",
      "Epoch 12/19\n",
      "31367/31367 [==============================] - 7s 220us/step - loss: 0.1766 - accuracy: 0.9593 - val_loss: 0.0534 - val_accuracy: 0.9871\n",
      "Epoch 13/19\n",
      "31367/31367 [==============================] - 6s 205us/step - loss: 0.2087 - accuracy: 0.9549 - val_loss: 0.0460 - val_accuracy: 0.9892\n",
      "Epoch 14/19\n",
      "31367/31367 [==============================] - 8s 243us/step - loss: 0.1906 - accuracy: 0.9579 - val_loss: 0.0411 - val_accuracy: 0.9902\n",
      "Epoch 15/19\n",
      "31367/31367 [==============================] - 8s 242us/step - loss: 0.2095 - accuracy: 0.9558 - val_loss: 0.0522 - val_accuracy: 0.9869\n",
      "Epoch 16/19\n",
      "31367/31367 [==============================] - 8s 245us/step - loss: 0.2219 - accuracy: 0.9528 - val_loss: 0.0802 - val_accuracy: 0.9805\n",
      "Epoch 17/19\n",
      "31367/31367 [==============================] - 8s 259us/step - loss: 0.1783 - accuracy: 0.9630 - val_loss: 0.0535 - val_accuracy: 0.9890\n",
      "Epoch 18/19\n",
      "31367/31367 [==============================] - 7s 212us/step - loss: 0.2205 - accuracy: 0.9556 - val_loss: 0.0696 - val_accuracy: 0.9872\n",
      "Epoch 19/19\n",
      "31367/31367 [==============================] - 8s 242us/step - loss: 0.2167 - accuracy: 0.9558 - val_loss: 0.0712 - val_accuracy: 0.9837\n"
     ]
    }
   ],
   "source": [
    "epochs = 19\n",
    "training_history = model.fit(X_train, y_train, batch_size = 32, epochs = epochs, validation_data = (X_test, y_test))"
   ]
  },
  {
   "cell_type": "markdown",
   "metadata": {},
   "source": [
    "**Plotting training and validation accuracy**"
   ]
  },
  {
   "cell_type": "code",
   "execution_count": 17,
   "metadata": {},
   "outputs": [
    {
     "data": {
      "image/png": "[encoded data removed]",
      "text/plain": [
       "<Figure size 432x288 with 1 Axes>"
      ]
     },
     "metadata": {
      "needs_background": "light"
     },
     "output_type": "display_data"
    }
   ],
   "source": [
    "#accuracy \n",
    "plt.plot(training_history.history['accuracy'], label = 'Training Accuracy')\n",
    "plt.plot(training_history.history['val_accuracy'], label = 'Validation Accuracy')\n",
    "plt.title('Training and Validation Accuracy')\n",
    "plt.xlabel('Epochs')\n",
    "plt.ylabel('Accuracy')\n",
    "plt.legend()\n",
    "plt.show()"
   ]
  },
  {
   "cell_type": "markdown",
   "metadata": {},
   "source": [
    "**Plotting Training and Validation Loss**"
   ]
  },
  {
   "cell_type": "code",
   "execution_count": 18,
   "metadata": {},
   "outputs": [
    {
     "data": {
      "image/png": "[encoded data removed]",
      "text/plain": [
       "<Figure size 432x288 with 1 Axes>"
      ]
     },
     "metadata": {
      "needs_background": "light"
     },
     "output_type": "display_data"
    }
   ],
   "source": [
    "#Loss \n",
    "plt.plot(training_history.history['loss'], label = 'Training Loss')\n",
    "plt.plot(training_history.history['val_loss'], label = 'Validation Loss')\n",
    "plt.title('Training and Validation Loss')\n",
    "plt.xlabel('Epochs')\n",
    "plt.ylabel('Loss')\n",
    "plt.legend()\n",
    "plt.show()"
   ]
  },
  {
   "cell_type": "markdown",
   "metadata": {},
   "source": [
    "## Testing on Test Data"
   ]
  },
  {
   "cell_type": "code",
   "execution_count": 19,
   "metadata": {},
   "outputs": [],
   "source": [
    "# preparing data in right format for training\n",
    "def testing(testcsv):\n",
    "    \"\"\"\n",
    "    This function will take test scv file with features and labels, \n",
    "    break the features and labels and returns them.\n",
    "    \"\"\"\n",
    "    y_test = pd.read_csv(testcsv)\n",
    "    label = y_test[\"ClassId\"].values\n",
    "    imgs = y_test[\"Path\"].values\n",
    "    data = []\n",
    "    for img in imgs:\n",
    "        image = Image.open(img)\n",
    "        image = image.resize((30,30)) #resizing the image\n",
    "        data.append(np.array(image))\n",
    "    X_test = np.array(data)\n",
    "    return X_test, label"
   ]
  },
  {
   "cell_type": "code",
   "execution_count": 20,
   "metadata": {},
   "outputs": [],
   "source": [
    "#calling the function and storing X_test and labels.\n",
    "X_test, label = testing('Test.csv')"
   ]
  },
  {
   "cell_type": "code",
   "execution_count": 21,
   "metadata": {},
   "outputs": [
    {
     "data": {
      "text/plain": [
       "array([16,  1, 38, ...,  5,  7, 10], dtype=int64)"
      ]
     },
     "execution_count": 21,
     "metadata": {},
     "output_type": "execute_result"
    }
   ],
   "source": [
    "Y_pred = model.predict_classes(X_test)\n",
    "Y_pred"
   ]
  },
  {
   "cell_type": "markdown",
   "metadata": {},
   "source": [
    "## Checking Accuracy with test data"
   ]
  },
  {
   "cell_type": "code",
   "execution_count": 22,
   "metadata": {},
   "outputs": [
    {
     "name": "stdout",
     "output_type": "stream",
     "text": [
      "0.9510688836104513\n"
     ]
    }
   ],
   "source": [
    "from sklearn.metrics import accuracy_score\n",
    "print(accuracy_score(label,Y_pred))"
   ]
  },
  {
   "cell_type": "markdown",
   "metadata": {},
   "source": [
    "## Saving the model for future reference"
   ]
  },
  {
   "cell_type": "code",
   "execution_count": 23,
   "metadata": {},
   "outputs": [],
   "source": [
    "model.save(\"./training/TSR.h5\")"
   ]
  },
  {
   "cell_type": "markdown",
   "metadata": {},
   "source": [
    "## Loading the model"
   ]
  },
  {
   "cell_type": "code",
   "execution_count": 24,
   "metadata": {},
   "outputs": [
    {
     "data": {
      "text/plain": [
       "'E:\\\\Data Science Projects\\\\Traffic Sign Detection'"
      ]
     },
     "execution_count": 24,
     "metadata": {},
     "output_type": "execute_result"
    }
   ],
   "source": [
    "#checking current path\n",
    "os.getcwd() "
   ]
  },
  {
   "cell_type": "code",
   "execution_count": 25,
   "metadata": {},
   "outputs": [],
   "source": [
    "model = load_model('./training/TSR.h5')"
   ]
  },
  {
   "cell_type": "code",
   "execution_count": 26,
   "metadata": {},
   "outputs": [],
   "source": [
    "# Giving name to different classes of traffic signs\n",
    "classes = { 0: 'Speed limit (20km/h)',\n",
    "            1:'Speed limit (30km/h)', \n",
    "            2:'Speed limit (50km/h)', \n",
    "            3:'Speed limit (60km/h)', \n",
    "            4:'Speed limit (70km/h)', \n",
    "            5:'Speed limit (80km/h)', \n",
    "            6:'End of speed limit (80km/h)', \n",
    "            7:'Speed limit (100km/h)', \n",
    "            8:'Speed limit (120km/h)', \n",
    "            9:'No passing', \n",
    "            10:'No passing veh over 3.5 tons', \n",
    "            11:'Right-of-way at intersection', \n",
    "            12:'Priority road', \n",
    "            13:'Yield', \n",
    "            14:'Stop', \n",
    "            15:'No vehicles', \n",
    "            16:'Veh > 3.5 tons prohibited', \n",
    "            17:'No entry', \n",
    "            18:'General caution', \n",
    "            19:'Dangerous curve left', \n",
    "            20:'Dangerous curve right', \n",
    "            21:'Double curve', \n",
    "            22:'Bumpy road', \n",
    "            23:'Slippery road', \n",
    "            24:'Road narrows on the right', \n",
    "            25:'Road work', \n",
    "            26:'Traffic signals', \n",
    "            27:'Pedestrians', \n",
    "            28:'Children crossing', \n",
    "            29:'Bicycles crossing', \n",
    "            30:'Beware of ice/snow',\n",
    "            31:'Wild animals crossing', \n",
    "            32:'End speed + passing limits', \n",
    "            33:'Turn right ahead', \n",
    "            34:'Turn left ahead', \n",
    "            35:'Ahead only', \n",
    "            36:'Go straight or right', \n",
    "            37:'Go straight or left', \n",
    "            38:'Keep right', \n",
    "            39:'Keep left', \n",
    "            40:'Roundabout mandatory', \n",
    "            41:'End of no passing', \n",
    "            42:'End no passing veh > 3.5 tons'}"
   ]
  },
  {
   "cell_type": "markdown",
   "metadata": {},
   "source": [
    "**Creating a function to test on image**"
   ]
  },
  {
   "cell_type": "code",
   "execution_count": 27,
   "metadata": {},
   "outputs": [],
   "source": [
    "def test_on_img(img):\n",
    "    data = []\n",
    "    image = Image.open(img)\n",
    "    image = image.resize((30,30))\n",
    "    data.append(np.array(image))\n",
    "    X_test = np.array(data)\n",
    "    Y_pred = model.predict_classes(X_test)\n",
    "    return image, Y_pred "
   ]
  },
  {
   "cell_type": "code",
   "execution_count": 28,
   "metadata": {},
   "outputs": [
    {
     "name": "stdout",
     "output_type": "stream",
     "text": [
      "Predicted traffic sign is: Stop\n"
     ]
    },
    {
     "data": {
      "image/png": "[encoded data removed]",
      "text/plain": [
       "<Figure size 432x288 with 1 Axes>"
      ]
     },
     "metadata": {
      "needs_background": "light"
     },
     "output_type": "display_data"
    }
   ],
   "source": [
    "plot,prediction = test_on_img(r'E:\\Data Science Projects\\Traffic Sign Detection\\Test\\00963.png')\n",
    "s = [str(i) for i in prediction]\n",
    "a = int(\"\".join(s))\n",
    "print(\"Predicted traffic sign is:\", classes[a])\n",
    "plt.imshow(plot)\n",
    "plt.show()"
   ]
  },
  {
   "cell_type": "code",
   "execution_count": null,
   "metadata": {},
   "outputs": [],
   "source": []
  }
 ],
 "metadata": {
  "kernelspec": {
   "display_name": "Python 3.7 (tensorflow)",
   "language": "python",
   "name": "tensorflow"
  },
  "language_info": {
   "codemirror_mode": {
    "name": "ipython",
    "version": 3
   },
   "file_extension": ".py",
   "mimetype": "text/x-python",
   "name": "python",
   "nbconvert_exporter": "python",
   "pygments_lexer": "ipython3",
   "version": "3.7.7"
  }
 },
 "nbformat": 4,
 "nbformat_minor": 4
}
